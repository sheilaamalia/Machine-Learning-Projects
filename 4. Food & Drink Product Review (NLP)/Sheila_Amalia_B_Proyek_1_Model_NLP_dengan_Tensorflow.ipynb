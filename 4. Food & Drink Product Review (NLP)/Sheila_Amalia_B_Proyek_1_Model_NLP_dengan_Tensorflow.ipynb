{
 "cells": [
  {
   "cell_type": "markdown",
   "metadata": {
    "id": "EMQcvEdhibuT"
   },
   "source": [
    "Proyek Pertama: Membuat Model NLP dengan Tensorflow\n",
    "<br>Nama: Sheila Amalia Burhanudin\n",
    "<br>Username: sheilaamalia\n",
    "<br>Email: sheilaamalia85@gmail.com\n",
    "<br>Dataset from Kaggle (https://www.kaggle.com/kulitekno/tokopedia-product-review-category-food-and-drink)"
   ]
  },
  {
   "cell_type": "code",
   "execution_count": null,
   "metadata": {
    "id": "p5OkSpUOiLNX"
   },
   "outputs": [],
   "source": [
    "import pandas as pd\n",
    "from sklearn.model_selection import train_test_split\n",
    "from tensorflow.keras.preprocessing.text import Tokenizer\n",
    "from tensorflow.keras.preprocessing.sequence import pad_sequences\n",
    "import tensorflow as tf\n",
    "import matplotlib.pyplot as plt"
   ]
  },
  {
   "cell_type": "code",
   "execution_count": null,
   "metadata": {
    "colab": {
     "base_uri": "https://localhost:8080/",
     "height": 204
    },
    "id": "MRY-8JVCmVio",
    "outputId": "3e5e5f16-1367-4582-a5f3-82657bcfe6d2"
   },
   "outputs": [
    {
     "data": {
      "text/html": [
       "<div>\n",
       "<style scoped>\n",
       "    .dataframe tbody tr th:only-of-type {\n",
       "        vertical-align: middle;\n",
       "    }\n",
       "\n",
       "    .dataframe tbody tr th {\n",
       "        vertical-align: top;\n",
       "    }\n",
       "\n",
       "    .dataframe thead th {\n",
       "        text-align: right;\n",
       "    }\n",
       "</style>\n",
       "<table border=\"1\" class=\"dataframe\">\n",
       "  <thead>\n",
       "    <tr style=\"text-align: right;\">\n",
       "      <th></th>\n",
       "      <th>Review</th>\n",
       "      <th>Rating</th>\n",
       "      <th>Sentiment</th>\n",
       "    </tr>\n",
       "  </thead>\n",
       "  <tbody>\n",
       "    <tr>\n",
       "      <th>0</th>\n",
       "      <td>enak kuacinya</td>\n",
       "      <td>5</td>\n",
       "      <td>positive</td>\n",
       "    </tr>\n",
       "    <tr>\n",
       "      <th>1</th>\n",
       "      <td>pengiriman cepat packing bagus sesuai pesanan ...</td>\n",
       "      <td>5</td>\n",
       "      <td>positive</td>\n",
       "    </tr>\n",
       "    <tr>\n",
       "      <th>2</th>\n",
       "      <td>pengemasan luar biasa baik untuk rasa menurut ...</td>\n",
       "      <td>4</td>\n",
       "      <td>negative</td>\n",
       "    </tr>\n",
       "    <tr>\n",
       "      <th>3</th>\n",
       "      <td>terimakasih min</td>\n",
       "      <td>5</td>\n",
       "      <td>neutral</td>\n",
       "    </tr>\n",
       "    <tr>\n",
       "      <th>4</th>\n",
       "      <td>udah order untuk kesekian kali jos</td>\n",
       "      <td>5</td>\n",
       "      <td>neutral</td>\n",
       "    </tr>\n",
       "  </tbody>\n",
       "</table>\n",
       "</div>"
      ],
      "text/plain": [
       "                                              Review  Rating Sentiment\n",
       "0                                      enak kuacinya       5  positive\n",
       "1  pengiriman cepat packing bagus sesuai pesanan ...       5  positive\n",
       "2  pengemasan luar biasa baik untuk rasa menurut ...       4  negative\n",
       "3                                    terimakasih min       5   neutral\n",
       "4                 udah order untuk kesekian kali jos       5   neutral"
      ]
     },
     "execution_count": 2,
     "metadata": {
      "tags": []
     },
     "output_type": "execute_result"
    }
   ],
   "source": [
    "# import dataset\n",
    "df = pd.read_csv('dataset_review_tokped_labelled.csv')\n",
    "df.head()"
   ]
  },
  {
   "cell_type": "code",
   "execution_count": null,
   "metadata": {
    "colab": {
     "base_uri": "https://localhost:8080/"
    },
    "id": "EU7SUVZum7se",
    "outputId": "92ab493f-21da-42f2-bc26-f99210ad3887"
   },
   "outputs": [
    {
     "name": "stdout",
     "output_type": "stream",
     "text": [
      "Jumlah baris:  4060\n",
      "Kategori sentimen:  ['positive' 'negative' 'neutral']\n"
     ]
    }
   ],
   "source": [
    "print('Jumlah baris: ', df.shape[0])\n",
    "print('Kategori sentimen: ', df['Sentiment'].unique())"
   ]
  },
  {
   "cell_type": "code",
   "execution_count": null,
   "metadata": {
    "colab": {
     "base_uri": "https://localhost:8080/",
     "height": 204
    },
    "id": "vNUSDwUVm_jh",
    "outputId": "070a666e-af9d-42f9-d064-2481f5bcf341"
   },
   "outputs": [
    {
     "data": {
      "text/html": [
       "<div>\n",
       "<style scoped>\n",
       "    .dataframe tbody tr th:only-of-type {\n",
       "        vertical-align: middle;\n",
       "    }\n",
       "\n",
       "    .dataframe tbody tr th {\n",
       "        vertical-align: top;\n",
       "    }\n",
       "\n",
       "    .dataframe thead th {\n",
       "        text-align: right;\n",
       "    }\n",
       "</style>\n",
       "<table border=\"1\" class=\"dataframe\">\n",
       "  <thead>\n",
       "    <tr style=\"text-align: right;\">\n",
       "      <th></th>\n",
       "      <th>Review</th>\n",
       "      <th>Rating</th>\n",
       "      <th>negative</th>\n",
       "      <th>neutral</th>\n",
       "      <th>positive</th>\n",
       "    </tr>\n",
       "  </thead>\n",
       "  <tbody>\n",
       "    <tr>\n",
       "      <th>0</th>\n",
       "      <td>enak kuacinya</td>\n",
       "      <td>5</td>\n",
       "      <td>0</td>\n",
       "      <td>0</td>\n",
       "      <td>1</td>\n",
       "    </tr>\n",
       "    <tr>\n",
       "      <th>1</th>\n",
       "      <td>pengiriman cepat packing bagus sesuai pesanan ...</td>\n",
       "      <td>5</td>\n",
       "      <td>0</td>\n",
       "      <td>0</td>\n",
       "      <td>1</td>\n",
       "    </tr>\n",
       "    <tr>\n",
       "      <th>2</th>\n",
       "      <td>pengemasan luar biasa baik untuk rasa menurut ...</td>\n",
       "      <td>4</td>\n",
       "      <td>1</td>\n",
       "      <td>0</td>\n",
       "      <td>0</td>\n",
       "    </tr>\n",
       "    <tr>\n",
       "      <th>3</th>\n",
       "      <td>terimakasih min</td>\n",
       "      <td>5</td>\n",
       "      <td>0</td>\n",
       "      <td>1</td>\n",
       "      <td>0</td>\n",
       "    </tr>\n",
       "    <tr>\n",
       "      <th>4</th>\n",
       "      <td>udah order untuk kesekian kali jos</td>\n",
       "      <td>5</td>\n",
       "      <td>0</td>\n",
       "      <td>1</td>\n",
       "      <td>0</td>\n",
       "    </tr>\n",
       "  </tbody>\n",
       "</table>\n",
       "</div>"
      ],
      "text/plain": [
       "                                              Review  Rating  ...  neutral  positive\n",
       "0                                      enak kuacinya       5  ...        0         1\n",
       "1  pengiriman cepat packing bagus sesuai pesanan ...       5  ...        0         1\n",
       "2  pengemasan luar biasa baik untuk rasa menurut ...       4  ...        0         0\n",
       "3                                    terimakasih min       5  ...        1         0\n",
       "4                 udah order untuk kesekian kali jos       5  ...        1         0\n",
       "\n",
       "[5 rows x 5 columns]"
      ]
     },
     "execution_count": 4,
     "metadata": {
      "tags": []
     },
     "output_type": "execute_result"
    }
   ],
   "source": [
    "# One Hot Encoding untuk kolom Sentiment karena label berupa data kategorikal\n",
    "category = pd.get_dummies(df.Sentiment)\n",
    "df_new = pd.concat([df, category], axis=1)\n",
    "df_new = df_new.drop(columns='Sentiment')\n",
    "df_new.head()"
   ]
  },
  {
   "cell_type": "code",
   "execution_count": null,
   "metadata": {
    "id": "ncMe15O5oC0P"
   },
   "outputs": [],
   "source": [
    "# mengubah data df menjadi tipe data numpy array agar dapat diproses oleh model\n",
    "review = df_new['Review'].values\n",
    "label = df_new[['negative', 'neutral', 'positive']].values"
   ]
  },
  {
   "cell_type": "code",
   "execution_count": null,
   "metadata": {
    "id": "zhQHVdD2pG39"
   },
   "outputs": [],
   "source": [
    "# membagi data menjadi data train dan test\n",
    "review_train, review_test, label_train, label_test = train_test_split(review, label, test_size=0.2)"
   ]
  },
  {
   "cell_type": "code",
   "execution_count": null,
   "metadata": {
    "id": "ay9rhT-kpicI"
   },
   "outputs": [],
   "source": [
    "# proses tokenisasi, sequence, dan padding\n",
    "tokenizer = Tokenizer(num_words=5000, oov_token='x')\n",
    "tokenizer.fit_on_texts(review_train)\n",
    "tokenizer.fit_on_texts(review_test)\n",
    "\n",
    "sequence_train = tokenizer.texts_to_sequences(review_train)\n",
    "sequence_test = tokenizer.texts_to_sequences(review_test)\n",
    "\n",
    "padded_train = pad_sequences(sequence_train)\n",
    "padded_test = pad_sequences(sequence_test)"
   ]
  },
  {
   "cell_type": "code",
   "execution_count": null,
   "metadata": {
    "id": "L021LuInq4DI"
   },
   "outputs": [],
   "source": [
    "# arsitektur model\n",
    "model = tf.keras.Sequential([\n",
    "    tf.keras.layers.Embedding(input_dim=5000, output_dim=16),\n",
    "    tf.keras.layers.LSTM(128), # layer LSTM\n",
    "    tf.keras.layers.Dense(128, activation='relu'),\n",
    "    tf.keras.layers.Dropout(0.2),\n",
    "    tf.keras.layers.Dense(64, activation='relu'),\n",
    "    tf.keras.layers.Dense(3, activation='softmax')\n",
    "])\n",
    "model.compile(loss='categorical_crossentropy', optimizer='adam', metrics=['accuracy'])"
   ]
  },
  {
   "cell_type": "code",
   "execution_count": null,
   "metadata": {
    "id": "4JaqBOkAvqcq"
   },
   "outputs": [],
   "source": [
    "# membuat fungsi callback dengan batas akurasi 97%\n",
    "batas_akurasi = 97e-2\n",
    "class custom_callbacks(tf.keras.callbacks.Callback):\n",
    "    def on_epoch_end(self, epoch, logs = None):\n",
    "        if logs.get('accuracy') >= batas_akurasi:\n",
    "            print('\\nEpoch ke-', epoch, '\\nAkurasi model telah mencapai = %2.2f%%' %(logs['accuracy']*100), ', proses latih berhenti.')\n",
    "            self.model.stop_training = True"
   ]
  },
  {
   "cell_type": "code",
   "execution_count": null,
   "metadata": {
    "colab": {
     "base_uri": "https://localhost:8080/"
    },
    "id": "6O2D_BDDrIGY",
    "outputId": "0bf7595d-c724-4896-91ea-89ac1ba0f94b"
   },
   "outputs": [
    {
     "name": "stdout",
     "output_type": "stream",
     "text": [
      "Epoch 1/30\n",
      "102/102 - 19s - loss: 0.8052 - accuracy: 0.7124 - val_loss: 0.6962 - val_accuracy: 0.7180\n",
      "Epoch 2/30\n",
      "102/102 - 17s - loss: 0.5261 - accuracy: 0.7925 - val_loss: 0.5277 - val_accuracy: 0.7808\n",
      "Epoch 3/30\n",
      "102/102 - 17s - loss: 0.3406 - accuracy: 0.8710 - val_loss: 0.5252 - val_accuracy: 0.8030\n",
      "Epoch 4/30\n",
      "102/102 - 17s - loss: 0.2268 - accuracy: 0.9181 - val_loss: 0.5562 - val_accuracy: 0.8177\n",
      "Epoch 5/30\n",
      "102/102 - 17s - loss: 0.1563 - accuracy: 0.9495 - val_loss: 0.7070 - val_accuracy: 0.8091\n",
      "Epoch 6/30\n",
      "102/102 - 17s - loss: 0.1315 - accuracy: 0.9603 - val_loss: 0.8826 - val_accuracy: 0.8042\n",
      "Epoch 7/30\n",
      "102/102 - 17s - loss: 0.0890 - accuracy: 0.9723 - val_loss: 0.7983 - val_accuracy: 0.7906\n",
      "\n",
      "Epoch ke- 6 \n",
      "Akurasi model telah mencapai = 97.23% , proses latih berhenti.\n"
     ]
    }
   ],
   "source": [
    "# melatih model\n",
    "num_epochs = 30\n",
    "history = model.fit(padded_train,\n",
    "                    label_train, \n",
    "                    epochs=num_epochs,\n",
    "                    validation_data=(padded_test,label_test), \n",
    "                    verbose=2,\n",
    "                    callbacks = [custom_callbacks()])"
   ]
  },
  {
   "cell_type": "code",
   "execution_count": null,
   "metadata": {
    "colab": {
     "base_uri": "https://localhost:8080/",
     "height": 573
    },
    "id": "bHzfE-2btJxR",
    "outputId": "494e3264-375a-494b-d256-4dbb54567a79"
   },
   "outputs": [
    {
     "data": {
      "image/png": "[encoded data removed]",
      "text/plain": [
       "<Figure size 432x288 with 1 Axes>"
      ]
     },
     "metadata": {
      "needs_background": "light",
      "tags": []
     },
     "output_type": "display_data"
    },
    {
     "data": {
      "image/png": "[encoded data removed]",
      "text/plain": [
       "<Figure size 432x288 with 1 Axes>"
      ]
     },
     "metadata": {
      "needs_background": "light",
      "tags": []
     },
     "output_type": "display_data"
    }
   ],
   "source": [
    "# plot history for accuracy\n",
    "plt.plot(history.history['accuracy'])\n",
    "plt.plot(history.history['val_accuracy'])\n",
    "plt.title('model accuracy')\n",
    "plt.ylabel('accuracy')\n",
    "plt.xlabel('epoch')\n",
    "plt.legend(['train', 'test'], loc='upper left')\n",
    "plt.show()\n",
    "\n",
    "# plot history for loss\n",
    "plt.plot(history.history['loss'])\n",
    "plt.plot(history.history['val_loss'])\n",
    "plt.title('model loss')\n",
    "plt.ylabel('loss')\n",
    "plt.xlabel('epoch')\n",
    "plt.legend(['train', 'test'], loc='upper left')\n",
    "plt.show()"
   ]
  },
  {
   "cell_type": "markdown",
   "metadata": {
    "id": "7KlACpdD4yhK"
   },
   "source": []
  }
 ],
 "metadata": {
  "colab": {
   "name": "Sheila Amalia B_Proyek 1: Model NLP dengan Tensorflow.ipynb",
   "provenance": []
  },
  "kernelspec": {
   "display_name": "Python 3",
   "language": "python",
   "name": "python3"
  },
  "language_info": {
   "codemirror_mode": {
    "name": "ipython",
    "version": 3
   },
   "file_extension": ".py",
   "mimetype": "text/x-python",
   "name": "python",
   "nbconvert_exporter": "python",
   "pygments_lexer": "ipython3",
   "version": "3.7.6"
  }
 },
 "nbformat": 4,
 "nbformat_minor": 1
}
