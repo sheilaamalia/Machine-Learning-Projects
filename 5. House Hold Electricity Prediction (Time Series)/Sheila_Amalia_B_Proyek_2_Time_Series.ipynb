{
  "nbformat": 4,
  "nbformat_minor": 0,
  "metadata": {
    "colab": {
      "name": "Sheila Amalia B_Proyek 2: Time Series.ipynb",
      "provenance": []
    },
    "kernelspec": {
      "name": "python3",
      "display_name": "Python 3"
    },
    "language_info": {
      "name": "python"
    }
  },
  "cells": [
    {
      "cell_type": "markdown",
      "metadata": {
        "id": "sBMiyVe7MZvM"
      },
      "source": [
        "Proyek Kedua: Membuat Model Machine Learning dengan Data Time Series\n",
        "<br>Nama: Sheila Amalia Burhanudin\n",
        "<br>Username: sheilaamalia\n",
        "<br>Email: sheilaamalia85@gmail.com\n",
        "<br>Dataset from Kaggle (https://www.kaggle.com/jaganadhg/house-hold-energy-data)"
      ]
    },
    {
      "cell_type": "code",
      "metadata": {
        "id": "FMMKXorrNPRI"
      },
      "source": [
        "import numpy as np\n",
        "import pandas as pd\n",
        "import matplotlib.pyplot as plt\n",
        "import sklearn.preprocessing\n",
        "from sklearn.preprocessing import MinMaxScaler\n",
        "from sklearn.metrics import mean_absolute_error\n",
        "from keras.callbacks import EarlyStopping\n",
        "import tensorflow as tf\n",
        "from keras.optimizers import SGD\n",
        "from keras.models import Sequential\n",
        "from keras.layers import Dense\n",
        "from keras.layers import LSTM\n",
        "from keras.layers import Dropout"
      ],
      "execution_count": 1,
      "outputs": []
    },
    {
      "cell_type": "code",
      "metadata": {
        "colab": {
          "base_uri": "https://localhost:8080/",
          "height": 204
        },
        "id": "unmzCq6INqzc",
        "outputId": "64235c4c-4c59-43d2-ca16-fc2d9e6ee026"
      },
      "source": [
        "# import dataset House Hold Energy Data\n",
        "df = pd.read_csv('/content/drive/MyDrive/Dataset/D202.csv')\n",
        "df.head()"
      ],
      "execution_count": 2,
      "outputs": [
        {
          "output_type": "execute_result",
          "data": {
            "text/html": [
              "<div>\n",
              "<style scoped>\n",
              "    .dataframe tbody tr th:only-of-type {\n",
              "        vertical-align: middle;\n",
              "    }\n",
              "\n",
              "    .dataframe tbody tr th {\n",
              "        vertical-align: top;\n",
              "    }\n",
              "\n",
              "    .dataframe thead th {\n",
              "        text-align: right;\n",
              "    }\n",
              "</style>\n",
              "<table border=\"1\" class=\"dataframe\">\n",
              "  <thead>\n",
              "    <tr style=\"text-align: right;\">\n",
              "      <th></th>\n",
              "      <th>TYPE</th>\n",
              "      <th>DATE</th>\n",
              "      <th>START TIME</th>\n",
              "      <th>END TIME</th>\n",
              "      <th>USAGE</th>\n",
              "      <th>UNITS</th>\n",
              "      <th>COST</th>\n",
              "      <th>NOTES</th>\n",
              "    </tr>\n",
              "  </thead>\n",
              "  <tbody>\n",
              "    <tr>\n",
              "      <th>0</th>\n",
              "      <td>Electric usage</td>\n",
              "      <td>10/22/2016</td>\n",
              "      <td>0:00</td>\n",
              "      <td>0:14</td>\n",
              "      <td>0.01</td>\n",
              "      <td>kWh</td>\n",
              "      <td>$0.00</td>\n",
              "      <td>NaN</td>\n",
              "    </tr>\n",
              "    <tr>\n",
              "      <th>1</th>\n",
              "      <td>Electric usage</td>\n",
              "      <td>10/22/2016</td>\n",
              "      <td>0:15</td>\n",
              "      <td>0:29</td>\n",
              "      <td>0.01</td>\n",
              "      <td>kWh</td>\n",
              "      <td>$0.00</td>\n",
              "      <td>NaN</td>\n",
              "    </tr>\n",
              "    <tr>\n",
              "      <th>2</th>\n",
              "      <td>Electric usage</td>\n",
              "      <td>10/22/2016</td>\n",
              "      <td>0:30</td>\n",
              "      <td>0:44</td>\n",
              "      <td>0.01</td>\n",
              "      <td>kWh</td>\n",
              "      <td>$0.00</td>\n",
              "      <td>NaN</td>\n",
              "    </tr>\n",
              "    <tr>\n",
              "      <th>3</th>\n",
              "      <td>Electric usage</td>\n",
              "      <td>10/22/2016</td>\n",
              "      <td>0:45</td>\n",
              "      <td>0:59</td>\n",
              "      <td>0.01</td>\n",
              "      <td>kWh</td>\n",
              "      <td>$0.00</td>\n",
              "      <td>NaN</td>\n",
              "    </tr>\n",
              "    <tr>\n",
              "      <th>4</th>\n",
              "      <td>Electric usage</td>\n",
              "      <td>10/22/2016</td>\n",
              "      <td>1:00</td>\n",
              "      <td>1:14</td>\n",
              "      <td>0.01</td>\n",
              "      <td>kWh</td>\n",
              "      <td>$0.00</td>\n",
              "      <td>NaN</td>\n",
              "    </tr>\n",
              "  </tbody>\n",
              "</table>\n",
              "</div>"
            ],
            "text/plain": [
              "             TYPE        DATE START TIME END TIME  USAGE UNITS    COST  NOTES\n",
              "0  Electric usage  10/22/2016       0:00     0:14   0.01   kWh  $0.00     NaN\n",
              "1  Electric usage  10/22/2016       0:15     0:29   0.01   kWh  $0.00     NaN\n",
              "2  Electric usage  10/22/2016       0:30     0:44   0.01   kWh  $0.00     NaN\n",
              "3  Electric usage  10/22/2016       0:45     0:59   0.01   kWh  $0.00     NaN\n",
              "4  Electric usage  10/22/2016       1:00     1:14   0.01   kWh  $0.00     NaN"
            ]
          },
          "metadata": {
            "tags": []
          },
          "execution_count": 2
        }
      ]
    },
    {
      "cell_type": "code",
      "metadata": {
        "colab": {
          "base_uri": "https://localhost:8080/"
        },
        "id": "dAKXVDHAOk_3",
        "outputId": "caea7762-f8b6-4a75-80b6-7ddeae1c34dc"
      },
      "source": [
        "print('Jumlah baris: ', df.shape[0])"
      ],
      "execution_count": 3,
      "outputs": [
        {
          "output_type": "stream",
          "text": [
            "Jumlah baris:  70368\n"
          ],
          "name": "stdout"
        }
      ]
    },
    {
      "cell_type": "code",
      "metadata": {
        "colab": {
          "base_uri": "https://localhost:8080/"
        },
        "id": "-8KZE_u8Q_aD",
        "outputId": "4dc32e8b-4dd9-4a13-c181-31069685c1da"
      },
      "source": [
        "# dataset info\n",
        "df.info()"
      ],
      "execution_count": 4,
      "outputs": [
        {
          "output_type": "stream",
          "text": [
            "<class 'pandas.core.frame.DataFrame'>\n",
            "RangeIndex: 70368 entries, 0 to 70367\n",
            "Data columns (total 8 columns):\n",
            " #   Column      Non-Null Count  Dtype  \n",
            "---  ------      --------------  -----  \n",
            " 0   TYPE        70368 non-null  object \n",
            " 1   DATE        70368 non-null  object \n",
            " 2   START TIME  70368 non-null  object \n",
            " 3   END TIME    70368 non-null  object \n",
            " 4   USAGE       70368 non-null  float64\n",
            " 5   UNITS       70368 non-null  object \n",
            " 6   COST        70368 non-null  object \n",
            " 7   NOTES       0 non-null      float64\n",
            "dtypes: float64(2), object(6)\n",
            "memory usage: 4.3+ MB\n"
          ],
          "name": "stdout"
        }
      ]
    },
    {
      "cell_type": "markdown",
      "metadata": {
        "id": "D3kkhH6VIMtj"
      },
      "source": [
        "Description of Data\n",
        "\n",
        "**TYPE** - Tipe penggunaan listrik. Value untuk semua data adalah 'Electric Usage'\n",
        "<br>**DATE** - Tanggal untuk konsumsi listrik\n",
        "<br>**START TIME** - Waktu mulai untuk penggunaan listrik\n",
        "<br>**END TIME** - Waktu berakhirnya penggunaan listrik\n",
        "<br>**USAGE** - Jumlah penggunaan listrik dalam kWh\n",
        "<br>**UNITS** - Unit pengukuran yang berisi 'kWh'\n",
        "<br>**COST** - Tarif penggunaan listrik dalam satuan $.\n",
        "<br>**NOTES** - Catatan (kosong)"
      ]
    },
    {
      "cell_type": "code",
      "metadata": {
        "colab": {
          "base_uri": "https://localhost:8080/",
          "height": 297
        },
        "id": "4rtLgxwpmCwC",
        "outputId": "620e10f4-47cb-4eab-940a-35af5c25167c"
      },
      "source": [
        "# deskripsi dataset\n",
        "df.describe()"
      ],
      "execution_count": 5,
      "outputs": [
        {
          "output_type": "execute_result",
          "data": {
            "text/html": [
              "<div>\n",
              "<style scoped>\n",
              "    .dataframe tbody tr th:only-of-type {\n",
              "        vertical-align: middle;\n",
              "    }\n",
              "\n",
              "    .dataframe tbody tr th {\n",
              "        vertical-align: top;\n",
              "    }\n",
              "\n",
              "    .dataframe thead th {\n",
              "        text-align: right;\n",
              "    }\n",
              "</style>\n",
              "<table border=\"1\" class=\"dataframe\">\n",
              "  <thead>\n",
              "    <tr style=\"text-align: right;\">\n",
              "      <th></th>\n",
              "      <th>USAGE</th>\n",
              "      <th>NOTES</th>\n",
              "    </tr>\n",
              "  </thead>\n",
              "  <tbody>\n",
              "    <tr>\n",
              "      <th>count</th>\n",
              "      <td>70368.000000</td>\n",
              "      <td>0.0</td>\n",
              "    </tr>\n",
              "    <tr>\n",
              "      <th>mean</th>\n",
              "      <td>0.121941</td>\n",
              "      <td>NaN</td>\n",
              "    </tr>\n",
              "    <tr>\n",
              "      <th>std</th>\n",
              "      <td>0.210507</td>\n",
              "      <td>NaN</td>\n",
              "    </tr>\n",
              "    <tr>\n",
              "      <th>min</th>\n",
              "      <td>0.000000</td>\n",
              "      <td>NaN</td>\n",
              "    </tr>\n",
              "    <tr>\n",
              "      <th>25%</th>\n",
              "      <td>0.030000</td>\n",
              "      <td>NaN</td>\n",
              "    </tr>\n",
              "    <tr>\n",
              "      <th>50%</th>\n",
              "      <td>0.050000</td>\n",
              "      <td>NaN</td>\n",
              "    </tr>\n",
              "    <tr>\n",
              "      <th>75%</th>\n",
              "      <td>0.120000</td>\n",
              "      <td>NaN</td>\n",
              "    </tr>\n",
              "    <tr>\n",
              "      <th>max</th>\n",
              "      <td>2.360000</td>\n",
              "      <td>NaN</td>\n",
              "    </tr>\n",
              "  </tbody>\n",
              "</table>\n",
              "</div>"
            ],
            "text/plain": [
              "              USAGE  NOTES\n",
              "count  70368.000000    0.0\n",
              "mean       0.121941    NaN\n",
              "std        0.210507    NaN\n",
              "min        0.000000    NaN\n",
              "25%        0.030000    NaN\n",
              "50%        0.050000    NaN\n",
              "75%        0.120000    NaN\n",
              "max        2.360000    NaN"
            ]
          },
          "metadata": {
            "tags": []
          },
          "execution_count": 5
        }
      ]
    },
    {
      "cell_type": "code",
      "metadata": {
        "colab": {
          "base_uri": "https://localhost:8080/"
        },
        "id": "HU9ABssnOchG",
        "outputId": "1de86ca6-475e-41bd-dd01-75039b53d131"
      },
      "source": [
        "# cek nilai null pada dataset\n",
        "df.isnull().sum()"
      ],
      "execution_count": 6,
      "outputs": [
        {
          "output_type": "execute_result",
          "data": {
            "text/plain": [
              "TYPE              0\n",
              "DATE              0\n",
              "START TIME        0\n",
              "END TIME          0\n",
              "USAGE             0\n",
              "UNITS             0\n",
              "COST              0\n",
              "NOTES         70368\n",
              "dtype: int64"
            ]
          },
          "metadata": {
            "tags": []
          },
          "execution_count": 6
        }
      ]
    },
    {
      "cell_type": "code",
      "metadata": {
        "colab": {
          "base_uri": "https://localhost:8080/",
          "height": 204
        },
        "id": "1r7pqSyJI5IY",
        "outputId": "aa273a9c-e58b-4bee-8325-225748b33549"
      },
      "source": [
        "# menghapus kolom NOTES\n",
        "df = df.drop('NOTES', axis=1)\n",
        "df.head()"
      ],
      "execution_count": 7,
      "outputs": [
        {
          "output_type": "execute_result",
          "data": {
            "text/html": [
              "<div>\n",
              "<style scoped>\n",
              "    .dataframe tbody tr th:only-of-type {\n",
              "        vertical-align: middle;\n",
              "    }\n",
              "\n",
              "    .dataframe tbody tr th {\n",
              "        vertical-align: top;\n",
              "    }\n",
              "\n",
              "    .dataframe thead th {\n",
              "        text-align: right;\n",
              "    }\n",
              "</style>\n",
              "<table border=\"1\" class=\"dataframe\">\n",
              "  <thead>\n",
              "    <tr style=\"text-align: right;\">\n",
              "      <th></th>\n",
              "      <th>TYPE</th>\n",
              "      <th>DATE</th>\n",
              "      <th>START TIME</th>\n",
              "      <th>END TIME</th>\n",
              "      <th>USAGE</th>\n",
              "      <th>UNITS</th>\n",
              "      <th>COST</th>\n",
              "    </tr>\n",
              "  </thead>\n",
              "  <tbody>\n",
              "    <tr>\n",
              "      <th>0</th>\n",
              "      <td>Electric usage</td>\n",
              "      <td>10/22/2016</td>\n",
              "      <td>0:00</td>\n",
              "      <td>0:14</td>\n",
              "      <td>0.01</td>\n",
              "      <td>kWh</td>\n",
              "      <td>$0.00</td>\n",
              "    </tr>\n",
              "    <tr>\n",
              "      <th>1</th>\n",
              "      <td>Electric usage</td>\n",
              "      <td>10/22/2016</td>\n",
              "      <td>0:15</td>\n",
              "      <td>0:29</td>\n",
              "      <td>0.01</td>\n",
              "      <td>kWh</td>\n",
              "      <td>$0.00</td>\n",
              "    </tr>\n",
              "    <tr>\n",
              "      <th>2</th>\n",
              "      <td>Electric usage</td>\n",
              "      <td>10/22/2016</td>\n",
              "      <td>0:30</td>\n",
              "      <td>0:44</td>\n",
              "      <td>0.01</td>\n",
              "      <td>kWh</td>\n",
              "      <td>$0.00</td>\n",
              "    </tr>\n",
              "    <tr>\n",
              "      <th>3</th>\n",
              "      <td>Electric usage</td>\n",
              "      <td>10/22/2016</td>\n",
              "      <td>0:45</td>\n",
              "      <td>0:59</td>\n",
              "      <td>0.01</td>\n",
              "      <td>kWh</td>\n",
              "      <td>$0.00</td>\n",
              "    </tr>\n",
              "    <tr>\n",
              "      <th>4</th>\n",
              "      <td>Electric usage</td>\n",
              "      <td>10/22/2016</td>\n",
              "      <td>1:00</td>\n",
              "      <td>1:14</td>\n",
              "      <td>0.01</td>\n",
              "      <td>kWh</td>\n",
              "      <td>$0.00</td>\n",
              "    </tr>\n",
              "  </tbody>\n",
              "</table>\n",
              "</div>"
            ],
            "text/plain": [
              "             TYPE        DATE START TIME END TIME  USAGE UNITS    COST\n",
              "0  Electric usage  10/22/2016       0:00     0:14   0.01   kWh  $0.00 \n",
              "1  Electric usage  10/22/2016       0:15     0:29   0.01   kWh  $0.00 \n",
              "2  Electric usage  10/22/2016       0:30     0:44   0.01   kWh  $0.00 \n",
              "3  Electric usage  10/22/2016       0:45     0:59   0.01   kWh  $0.00 \n",
              "4  Electric usage  10/22/2016       1:00     1:14   0.01   kWh  $0.00 "
            ]
          },
          "metadata": {
            "tags": []
          },
          "execution_count": 7
        }
      ]
    },
    {
      "cell_type": "code",
      "metadata": {
        "colab": {
          "base_uri": "https://localhost:8080/",
          "height": 235
        },
        "id": "AzWu9PDyRK_F",
        "outputId": "94877bdb-7a82-47ea-af53-260740302310"
      },
      "source": [
        "# membuat kolom baru DATE_TIME yang merupakan penggabungan dari kolom DATE dan END_TIME\n",
        "import datetime\n",
        "df[\"DATE_TIME\"] = pd.to_datetime(df.DATE + \" \" + df[\"END TIME\"])\n",
        "df.index = df[\"DATE_TIME\"]\n",
        "\n",
        "# resample data DATE_TIME menjadi per jam\n",
        "df_hourly = df.resample('H').sum()\n",
        "df_hourly.head()"
      ],
      "execution_count": 8,
      "outputs": [
        {
          "output_type": "execute_result",
          "data": {
            "text/html": [
              "<div>\n",
              "<style scoped>\n",
              "    .dataframe tbody tr th:only-of-type {\n",
              "        vertical-align: middle;\n",
              "    }\n",
              "\n",
              "    .dataframe tbody tr th {\n",
              "        vertical-align: top;\n",
              "    }\n",
              "\n",
              "    .dataframe thead th {\n",
              "        text-align: right;\n",
              "    }\n",
              "</style>\n",
              "<table border=\"1\" class=\"dataframe\">\n",
              "  <thead>\n",
              "    <tr style=\"text-align: right;\">\n",
              "      <th></th>\n",
              "      <th>USAGE</th>\n",
              "    </tr>\n",
              "    <tr>\n",
              "      <th>DATE_TIME</th>\n",
              "      <th></th>\n",
              "    </tr>\n",
              "  </thead>\n",
              "  <tbody>\n",
              "    <tr>\n",
              "      <th>2016-10-22 00:00:00</th>\n",
              "      <td>0.04</td>\n",
              "    </tr>\n",
              "    <tr>\n",
              "      <th>2016-10-22 01:00:00</th>\n",
              "      <td>0.04</td>\n",
              "    </tr>\n",
              "    <tr>\n",
              "      <th>2016-10-22 02:00:00</th>\n",
              "      <td>0.08</td>\n",
              "    </tr>\n",
              "    <tr>\n",
              "      <th>2016-10-22 03:00:00</th>\n",
              "      <td>0.04</td>\n",
              "    </tr>\n",
              "    <tr>\n",
              "      <th>2016-10-22 04:00:00</th>\n",
              "      <td>0.04</td>\n",
              "    </tr>\n",
              "  </tbody>\n",
              "</table>\n",
              "</div>"
            ],
            "text/plain": [
              "                     USAGE\n",
              "DATE_TIME                 \n",
              "2016-10-22 00:00:00   0.04\n",
              "2016-10-22 01:00:00   0.04\n",
              "2016-10-22 02:00:00   0.08\n",
              "2016-10-22 03:00:00   0.04\n",
              "2016-10-22 04:00:00   0.04"
            ]
          },
          "metadata": {
            "tags": []
          },
          "execution_count": 8
        }
      ]
    },
    {
      "cell_type": "code",
      "metadata": {
        "colab": {
          "base_uri": "https://localhost:8080/"
        },
        "id": "6Klg6PXliTi5",
        "outputId": "eb860c8e-fc9b-40dd-f19b-4dea3d500747"
      },
      "source": [
        "# jumlah baris setelah resample\n",
        "print('Jumlah baris df_hourly: ', df_hourly.shape[0])"
      ],
      "execution_count": 9,
      "outputs": [
        {
          "output_type": "stream",
          "text": [
            "Jumlah baris df_hourly:  17592\n"
          ],
          "name": "stdout"
        }
      ]
    },
    {
      "cell_type": "code",
      "metadata": {
        "colab": {
          "base_uri": "https://localhost:8080/",
          "height": 421
        },
        "id": "NWV-uTdunteS",
        "outputId": "a1deea04-798f-48ab-91f1-b3871eae015a"
      },
      "source": [
        "# plot data USAGE sebelum normalisasi data\n",
        "plt.figure(figsize=(14,6))\n",
        "plt.plot(df_hourly['USAGE'], label='Usage of Energy',color='red')\n",
        "plt.xlabel('Tanggal',size=20)\n",
        "plt.ylabel('Penggunaan (kWh)',size=20)\n",
        "plt.title('Penggunaan Listrik Rumah Tangga Sebelum Normalisasi',size=23);"
      ],
      "execution_count": 10,
      "outputs": [
        {
          "output_type": "display_data",
          "data": {
            "image/png": "[encoded data removed]",
            "text/plain": [
              "<Figure size 1008x432 with 1 Axes>"
            ]
          },
          "metadata": {
            "tags": [],
            "needs_background": "light"
          }
        }
      ]
    },
    {
      "cell_type": "code",
      "metadata": {
        "id": "EG4iJ7AdmgC9"
      },
      "source": [
        "# normalisasi data dengan MinMaxScaler\n",
        "ds = df_hourly.values\n",
        "ds = ds.astype('float32')\n",
        "ds = np.reshape(ds, (-1, 1))\n",
        "scaler = MinMaxScaler(feature_range=(0, 1))\n",
        "ds = scaler.fit_transform(ds)"
      ],
      "execution_count": 11,
      "outputs": []
    },
    {
      "cell_type": "code",
      "metadata": {
        "colab": {
          "base_uri": "https://localhost:8080/",
          "height": 398
        },
        "id": "rECzKbRYoJKS",
        "outputId": "6fda459a-e578-492c-cbc2-72db0b7c71c9"
      },
      "source": [
        "# tampilan plot visualisasi data setelah normalisasi\n",
        "plt.figure(figsize=(14,6))\n",
        "plt.plot(ds, label='Usage of Energy',color='red')\n",
        "plt.title('Penggunaan Listrik Rumah Tangga Setelah Normalisasi',size=23);"
      ],
      "execution_count": 12,
      "outputs": [
        {
          "output_type": "display_data",
          "data": {
            "image/png": "[encoded data removed]",
            "text/plain": [
              "<Figure size 1008x432 with 1 Axes>"
            ]
          },
          "metadata": {
            "tags": [],
            "needs_background": "light"
          }
        }
      ]
    },
    {
      "cell_type": "code",
      "metadata": {
        "id": "94oqqVwd_UeJ"
      },
      "source": [
        "#split data train (80%) dan test (20%)\n",
        "train_size = int(len(ds) * 0.80)\n",
        "test_size = len(ds) - train_size\n",
        "train, test = ds[0:train_size,:], ds[train_size:len(ds),:]"
      ],
      "execution_count": 13,
      "outputs": []
    },
    {
      "cell_type": "code",
      "metadata": {
        "id": "MVHLTgPc_9aZ"
      },
      "source": [
        "# convert array menjadi matriks dataset\n",
        "def create_dataset(ds, look_back=40):\n",
        "    X, Y = [], []\n",
        "    for i in range(len(ds)-look_back-1):\n",
        "        a = ds[i:(i+look_back), 0]\n",
        "        X.append(a)\n",
        "        Y.append(ds[i + look_back, 0])\n",
        "    return np.array(X), np.array(Y)"
      ],
      "execution_count": 14,
      "outputs": []
    },
    {
      "cell_type": "code",
      "metadata": {
        "colab": {
          "base_uri": "https://localhost:8080/"
        },
        "id": "FnI68oofAKnI",
        "outputId": "b0ff130a-baab-454e-e616-23bfd00d7fb7"
      },
      "source": [
        "# reshape data X & Y\n",
        "look_back = 40\n",
        "X_train, Y_train = create_dataset(train, look_back)\n",
        "X_test, Y_test = create_dataset(test, look_back)\n",
        "\n",
        "print('Jumlah baris X_train: ', X_train.shape[0])\n",
        "print('Jumlah baris Y_train: ', Y_train.shape[0])"
      ],
      "execution_count": 15,
      "outputs": [
        {
          "output_type": "stream",
          "text": [
            "Jumlah baris X_train:  14032\n",
            "Jumlah baris Y_train:  14032\n"
          ],
          "name": "stdout"
        }
      ]
    },
    {
      "cell_type": "code",
      "metadata": {
        "id": "K4KZ4u-3An2l"
      },
      "source": [
        "# reshape input to be [samples, time steps, features]\n",
        "X_train = np.reshape(X_train, (X_train.shape[0], 1, X_train.shape[1]))\n",
        "X_test = np.reshape(X_test, (X_test.shape[0], 1, X_test.shape[1]))"
      ],
      "execution_count": 16,
      "outputs": []
    },
    {
      "cell_type": "code",
      "metadata": {
        "colab": {
          "base_uri": "https://localhost:8080/"
        },
        "id": "8Z570FYdA0Ly",
        "outputId": "0d4ec7fe-fc68-4455-9733-aa491b8ea502"
      },
      "source": [
        "X_train.shape"
      ],
      "execution_count": 17,
      "outputs": [
        {
          "output_type": "execute_result",
          "data": {
            "text/plain": [
              "(14032, 1, 40)"
            ]
          },
          "metadata": {
            "tags": []
          },
          "execution_count": 17
        }
      ]
    },
    {
      "cell_type": "code",
      "metadata": {
        "id": "O8osw4r1REQw"
      },
      "source": [
        "# arsitektur model\n",
        "model = Sequential()\n",
        "model.add(LSTM(100, input_shape=(1, look_back)))\n",
        "model.add(Dropout(0.2))\n",
        "model.add(Dense(50, activation='relu'))\n",
        "model.add(Dense(1))"
      ],
      "execution_count": 18,
      "outputs": []
    },
    {
      "cell_type": "code",
      "metadata": {
        "colab": {
          "base_uri": "https://localhost:8080/"
        },
        "id": "CRWhQlqqBB-0",
        "outputId": "f3106b32-65d1-4b71-fdc2-cdeef91e0f6e"
      },
      "source": [
        "# training model\n",
        "opt = tf.keras.optimizers.Adam(learning_rate=0.0001)\n",
        "model.compile(loss='mae', optimizer=opt, metrics=['mae'])\n",
        "\n",
        "history = model.fit(X_train, Y_train, epochs=40, batch_size=100, validation_data=(X_test, Y_test), \n",
        "                     callbacks=[EarlyStopping(monitor='val_loss', patience=10)], verbose=1, shuffle=False)\n",
        "\n",
        "\n",
        "model.summary()"
      ],
      "execution_count": 19,
      "outputs": [
        {
          "output_type": "stream",
          "text": [
            "Epoch 1/40\n",
            "141/141 [==============================] - 22s 12ms/step - loss: 0.0475 - mae: 0.0475 - val_loss: 0.0240 - val_mae: 0.0240\n",
            "Epoch 2/40\n",
            "141/141 [==============================] - 1s 5ms/step - loss: 0.0446 - mae: 0.0446 - val_loss: 0.0233 - val_mae: 0.0233\n",
            "Epoch 3/40\n",
            "141/141 [==============================] - 1s 6ms/step - loss: 0.0437 - mae: 0.0437 - val_loss: 0.0228 - val_mae: 0.0228\n",
            "Epoch 4/40\n",
            "141/141 [==============================] - 1s 5ms/step - loss: 0.0431 - mae: 0.0431 - val_loss: 0.0224 - val_mae: 0.0224\n",
            "Epoch 5/40\n",
            "141/141 [==============================] - 1s 5ms/step - loss: 0.0429 - mae: 0.0429 - val_loss: 0.0221 - val_mae: 0.0221\n",
            "Epoch 6/40\n",
            "141/141 [==============================] - 1s 6ms/step - loss: 0.0422 - mae: 0.0422 - val_loss: 0.0218 - val_mae: 0.0218\n",
            "Epoch 7/40\n",
            "141/141 [==============================] - 1s 5ms/step - loss: 0.0420 - mae: 0.0420 - val_loss: 0.0215 - val_mae: 0.0215\n",
            "Epoch 8/40\n",
            "141/141 [==============================] - 1s 6ms/step - loss: 0.0416 - mae: 0.0416 - val_loss: 0.0213 - val_mae: 0.0213\n",
            "Epoch 9/40\n",
            "141/141 [==============================] - 1s 5ms/step - loss: 0.0414 - mae: 0.0414 - val_loss: 0.0213 - val_mae: 0.0213\n",
            "Epoch 10/40\n",
            "141/141 [==============================] - 1s 5ms/step - loss: 0.0413 - mae: 0.0413 - val_loss: 0.0211 - val_mae: 0.0211\n",
            "Epoch 11/40\n",
            "141/141 [==============================] - 1s 5ms/step - loss: 0.0410 - mae: 0.0410 - val_loss: 0.0211 - val_mae: 0.0211\n",
            "Epoch 12/40\n",
            "141/141 [==============================] - 1s 5ms/step - loss: 0.0409 - mae: 0.0409 - val_loss: 0.0211 - val_mae: 0.0211\n",
            "Epoch 13/40\n",
            "141/141 [==============================] - 1s 6ms/step - loss: 0.0408 - mae: 0.0408 - val_loss: 0.0209 - val_mae: 0.0209\n",
            "Epoch 14/40\n",
            "141/141 [==============================] - 1s 5ms/step - loss: 0.0406 - mae: 0.0406 - val_loss: 0.0209 - val_mae: 0.0209\n",
            "Epoch 15/40\n",
            "141/141 [==============================] - 1s 5ms/step - loss: 0.0404 - mae: 0.0404 - val_loss: 0.0209 - val_mae: 0.0209\n",
            "Epoch 16/40\n",
            "141/141 [==============================] - 1s 5ms/step - loss: 0.0403 - mae: 0.0403 - val_loss: 0.0208 - val_mae: 0.0208\n",
            "Epoch 17/40\n",
            "141/141 [==============================] - 1s 6ms/step - loss: 0.0402 - mae: 0.0402 - val_loss: 0.0208 - val_mae: 0.0208\n",
            "Epoch 18/40\n",
            "141/141 [==============================] - 1s 5ms/step - loss: 0.0403 - mae: 0.0403 - val_loss: 0.0208 - val_mae: 0.0208\n",
            "Epoch 19/40\n",
            "141/141 [==============================] - 1s 5ms/step - loss: 0.0400 - mae: 0.0400 - val_loss: 0.0208 - val_mae: 0.0208\n",
            "Epoch 20/40\n",
            "141/141 [==============================] - 1s 6ms/step - loss: 0.0401 - mae: 0.0401 - val_loss: 0.0207 - val_mae: 0.0207\n",
            "Epoch 21/40\n",
            "141/141 [==============================] - 1s 5ms/step - loss: 0.0400 - mae: 0.0400 - val_loss: 0.0206 - val_mae: 0.0206\n",
            "Epoch 22/40\n",
            "141/141 [==============================] - 1s 5ms/step - loss: 0.0398 - mae: 0.0398 - val_loss: 0.0207 - val_mae: 0.0207\n",
            "Epoch 23/40\n",
            "141/141 [==============================] - 1s 5ms/step - loss: 0.0398 - mae: 0.0398 - val_loss: 0.0206 - val_mae: 0.0206\n",
            "Epoch 24/40\n",
            "141/141 [==============================] - 1s 5ms/step - loss: 0.0397 - mae: 0.0397 - val_loss: 0.0206 - val_mae: 0.0206\n",
            "Epoch 25/40\n",
            "141/141 [==============================] - 1s 5ms/step - loss: 0.0395 - mae: 0.0395 - val_loss: 0.0206 - val_mae: 0.0206\n",
            "Epoch 26/40\n",
            "141/141 [==============================] - 1s 6ms/step - loss: 0.0397 - mae: 0.0397 - val_loss: 0.0206 - val_mae: 0.0206\n",
            "Epoch 27/40\n",
            "141/141 [==============================] - 1s 5ms/step - loss: 0.0395 - mae: 0.0395 - val_loss: 0.0205 - val_mae: 0.0205\n",
            "Epoch 28/40\n",
            "141/141 [==============================] - 1s 6ms/step - loss: 0.0393 - mae: 0.0393 - val_loss: 0.0206 - val_mae: 0.0206\n",
            "Epoch 29/40\n",
            "141/141 [==============================] - 1s 5ms/step - loss: 0.0395 - mae: 0.0395 - val_loss: 0.0206 - val_mae: 0.0206\n",
            "Epoch 30/40\n",
            "141/141 [==============================] - 1s 5ms/step - loss: 0.0393 - mae: 0.0393 - val_loss: 0.0206 - val_mae: 0.0206\n",
            "Epoch 31/40\n",
            "141/141 [==============================] - 1s 5ms/step - loss: 0.0392 - mae: 0.0392 - val_loss: 0.0205 - val_mae: 0.0205\n",
            "Epoch 32/40\n",
            "141/141 [==============================] - 1s 6ms/step - loss: 0.0392 - mae: 0.0392 - val_loss: 0.0205 - val_mae: 0.0205\n",
            "Epoch 33/40\n",
            "141/141 [==============================] - 1s 5ms/step - loss: 0.0391 - mae: 0.0391 - val_loss: 0.0204 - val_mae: 0.0204\n",
            "Epoch 34/40\n",
            "141/141 [==============================] - 1s 5ms/step - loss: 0.0390 - mae: 0.0390 - val_loss: 0.0204 - val_mae: 0.0204\n",
            "Epoch 35/40\n",
            "141/141 [==============================] - 1s 5ms/step - loss: 0.0389 - mae: 0.0389 - val_loss: 0.0205 - val_mae: 0.0205\n",
            "Epoch 36/40\n",
            "141/141 [==============================] - 1s 6ms/step - loss: 0.0390 - mae: 0.0390 - val_loss: 0.0205 - val_mae: 0.0205\n",
            "Epoch 37/40\n",
            "141/141 [==============================] - 1s 5ms/step - loss: 0.0387 - mae: 0.0387 - val_loss: 0.0204 - val_mae: 0.0204\n",
            "Epoch 38/40\n",
            "141/141 [==============================] - 1s 6ms/step - loss: 0.0388 - mae: 0.0388 - val_loss: 0.0204 - val_mae: 0.0204\n",
            "Epoch 39/40\n",
            "141/141 [==============================] - 1s 5ms/step - loss: 0.0385 - mae: 0.0385 - val_loss: 0.0204 - val_mae: 0.0204\n",
            "Epoch 40/40\n",
            "141/141 [==============================] - 1s 6ms/step - loss: 0.0385 - mae: 0.0385 - val_loss: 0.0204 - val_mae: 0.0204\n",
            "Model: \"sequential\"\n",
            "_________________________________________________________________\n",
            "Layer (type)                 Output Shape              Param #   \n",
            "=================================================================\n",
            "lstm (LSTM)                  (None, 100)               56400     \n",
            "_________________________________________________________________\n",
            "dropout (Dropout)            (None, 100)               0         \n",
            "_________________________________________________________________\n",
            "dense (Dense)                (None, 50)                5050      \n",
            "_________________________________________________________________\n",
            "dense_1 (Dense)              (None, 1)                 51        \n",
            "=================================================================\n",
            "Total params: 61,501\n",
            "Trainable params: 61,501\n",
            "Non-trainable params: 0\n",
            "_________________________________________________________________\n"
          ],
          "name": "stdout"
        }
      ]
    },
    {
      "cell_type": "code",
      "metadata": {
        "id": "KhFYvK4SCehw"
      },
      "source": [
        "# membuat prediksi\n",
        "train_predict = model.predict(X_train)\n",
        "test_predict = model.predict(X_test)\n",
        "\n",
        "# membalikkan nilai transformasi prediksi\n",
        "train_predict = scaler.inverse_transform(train_predict)\n",
        "Y_train = scaler.inverse_transform([Y_train])\n",
        "test_predict = scaler.inverse_transform(test_predict)\n",
        "Y_test = scaler.inverse_transform([Y_test])"
      ],
      "execution_count": 20,
      "outputs": []
    },
    {
      "cell_type": "code",
      "metadata": {
        "colab": {
          "base_uri": "https://localhost:8080/",
          "height": 295
        },
        "id": "59P_bXFRIqr3",
        "outputId": "a87b1f1f-2e6b-461d-ea7d-b7d685a4c489"
      },
      "source": [
        "# plot perbandingan train loss dan test loss\n",
        "plt.figure(figsize=(8,4))\n",
        "plt.plot(history.history['loss'], label='Train Loss')\n",
        "plt.plot(history.history['val_loss'], label='Test Loss')\n",
        "plt.title('model loss')\n",
        "plt.ylabel('loss')\n",
        "plt.xlabel('epochs')\n",
        "plt.legend(loc='upper right')\n",
        "plt.show();"
      ],
      "execution_count": 21,
      "outputs": [
        {
          "output_type": "display_data",
          "data": {
            "image/png": "[encoded data removed]",
            "text/plain": [
              "<Figure size 576x288 with 1 Axes>"
            ]
          },
          "metadata": {
            "tags": [],
            "needs_background": "light"
          }
        }
      ]
    },
    {
      "cell_type": "code",
      "metadata": {
        "colab": {
          "base_uri": "https://localhost:8080/",
          "height": 316
        },
        "id": "aYlnOIj_I4WN",
        "outputId": "a230d0ae-7142-4f16-8808-7f9156d23907"
      },
      "source": [
        "# plot perbandingan 200 data aktual dan data prediksi\n",
        "import seaborn as sns\n",
        "dt=[x for x in range(200)]\n",
        "plt.figure(figsize=(10,4))\n",
        "plt.plot(dt, Y_test[0][:200], marker='.', label=\"actual\")\n",
        "plt.plot(dt, test_predict[:,0][:200], 'r', label=\"prediction\")\n",
        "plt.tight_layout()\n",
        "sns.despine(top=True)\n",
        "plt.subplots_adjust(left=0.07)\n",
        "plt.ylabel('Penggunaan listrik per jam', size=15)\n",
        "plt.xlabel('Time step', size=15)\n",
        "plt.legend(fontsize=15)\n",
        "plt.show();"
      ],
      "execution_count": 22,
      "outputs": [
        {
          "output_type": "display_data",
          "data": {
            "image/png": "[encoded data removed]",
            "text/plain": [
              "<Figure size 720x288 with 1 Axes>"
            ]
          },
          "metadata": {
            "tags": [],
            "needs_background": "light"
          }
        }
      ]
    }
  ]
}